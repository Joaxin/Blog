{
 "cells": [
  {
   "cell_type": "markdown",
   "metadata": {
    "scrolled": true
   },
   "source": [
    "## Python Web Crawler  5 - Requests"
   ]
  },
  {
   "cell_type": "markdown",
   "metadata": {},
   "source": [
    "## Quickstart"
   ]
  },
  {
   "cell_type": "code",
   "execution_count": null,
   "metadata": {
    "collapsed": true
   },
   "outputs": [],
   "source": [
    "import requests as R\n",
    "\n",
    "print(R.get('http://httpbin.org/get').text)\n",
    "# {\n",
    "#   \"args\": {}, \n",
    "#   \"headers\": {\n",
    "#     \"Accept\": \"*/*\", \n",
    "#     \"Accept-Encoding\": \"gzip, deflate\", \n",
    "#     \"Connection\": \"close\", \n",
    "#     \"Host\": \"httpbin.org\", \n",
    "#     \"User-Agent\": \"python-requests/2.18.4\"\n",
    "#   }, \n",
    "#   \"origin\": \"115.196.156.112\", \n",
    "#   \"url\": \"http://httpbin.org/get\"\n",
    "# }\n",
    "print(R.post('http://httpbin.org/post').text)\n",
    "# {\n",
    "#   \"args\": {}, \n",
    "#   \"data\": \"\", \n",
    "#   \"files\": {}, \n",
    "#   \"form\": {}, \n",
    "#   \"headers\": {\n",
    "#     \"Accept\": \"*/*\", \n",
    "#     \"Accept-Encoding\": \"gzip, deflate\", \n",
    "#     \"Connection\": \"close\", \n",
    "#     \"Content-Length\": \"0\", \n",
    "#     \"Host\": \"httpbin.org\", \n",
    "#     \"User-Agent\": \"python-requests/2.18.4\"\n",
    "#   }, \n",
    "#   \"json\": null, \n",
    "#   \"origin\": \"115.196.156.112\", \n",
    "#   \"url\": \"http://httpbin.org/post\"\n",
    "# }\n",
    "\n",
    "req = R.get('https://www.bing.com/search?q=bing',timeout = 5)\n",
    "print(req.status_code)\n",
    "# 200\n",
    "print(req.text.encode(\"utf-8\"))\n",
    "#  b'<!DOCTYPE html PUBLIC \"-//W3C//DTD XHTML 1.0 ...\n",
    "print(req.headers['content-type'])\n",
    "# text/html; charset=utf-8\n",
    "print(req.url)\n",
    "# https://www.bing.com/search?q=bing\n",
    "print(req.history)\n",
    "# [] \n",
    "for key, value in req.cookies.items():   # RequestCookieJar\n",
    "    print(key + '=' + value)\n",
    "# MUID=05319260E985628908A499CFE832631F\n",
    "# SRCHD=AF=NOFORM\n",
    "# ..."
   ]
  },
  {
   "cell_type": "code",
   "execution_count": null,
   "metadata": {
    "collapsed": true
   },
   "outputs": [],
   "source": [
    "song = {\n",
    "    'song1': 'Into the Well' ,\n",
    "    'song2':'Lift Me Up'\n",
    "}\n",
    "print(R.get(\"http://httpbin.org/get\", params=song))\n",
    "# <Response [200]>\n",
    "print(R.get(\"http://httpbin.org/get\", params=song).text) # str\n",
    "# <Response [200]>\n",
    "# {\n",
    "#   \"args\": {\n",
    "#     \"song1\": \"Into the Well\", \n",
    "#     \"song2\": \"Lift Me Up\"\n",
    "#   }, \n",
    "#   \"headers\": {\n",
    "#     \"Accept\": \"*/*\", \n",
    "#     \"Accept-Encoding\": \"gzip, deflate\", \n",
    "#     \"Connection\": \"close\", \n",
    "#     \"Host\": \"httpbin.org\", \n",
    "#     \"User-Agent\": \"python-requests/2.18.4\"\n",
    "#   }, \n",
    "#   \"origin\": \"115.196.156.112\", \n",
    "#   \"url\": \"http://httpbin.org/get?song1=Into+the+Well&song2=Lift+Me+Up\"\n",
    "# }\n",
    "print(R.post(\"http://httpbin.org/post\", params=song,data=song).text) # str\n",
    "# {\n",
    "#   \"args\": {\n",
    "#     \"song1\": \"Into the Well\", \n",
    "#     \"song2\": \"Lift Me Up\"\n",
    "#   }, \n",
    "#   \"data\": \"\", \n",
    "#   \"files\": {}, \n",
    "#   \"form\": {\n",
    "#     \"song1\": \"Into the Well\", \n",
    "#     \"song2\": \"Lift Me Up\"\n",
    "#   }, \n",
    "#   \"headers\": {\n",
    "#     \"Accept\": \"*/*\", \n",
    "#     \"Accept-Encoding\": \"gzip, deflate\", \n",
    "#     \"Connection\": \"close\", \n",
    "#     \"Content-Length\": \"36\", \n",
    "#     \"Content-Type\": \"application/x-www-form-urlencoded\", \n",
    "#     \"Host\": \"httpbin.org\", \n",
    "#     \"User-Agent\": \"python-requests/2.18.4\"\n",
    "#   }, \n",
    "#   \"json\": null, \n",
    "#   \"origin\": \"115.196.156.112\", \n",
    "#   \"url\": \"http://httpbin.org/post?song1=Into+the+Well&song2=Lift+Me+Up\"\n",
    "# }\n",
    "print(R.get('http://httpbin.org/get?song1=Into+the+Well&song2=Lift+Me+Up2').json())  # dict\n",
    "# {'args': {'song1': 'Into the Well', 'song2': 'Lift Me Up2'}, 'headers': {'Accept': '*/*', 'Accept-Encoding': 'gzip, deflate',\\\n",
    "# 'Connection': 'close', 'Host': 'httpbin.org', 'User-Agent': 'python-requests/2.18.4'},\\\n",
    "# 'origin': '115.196.156.112', 'url': 'http://httpbin.org/get?song1=Into+the+Well&song2=Lift+Me+Up2'}"
   ]
  },
  {
   "cell_type": "markdown",
   "metadata": {},
   "source": [
    "## Grab data"
   ]
  },
  {
   "cell_type": "markdown",
   "metadata": {},
   "source": [
    "### Cookies"
   ]
  },
  {
   "cell_type": "code",
   "execution_count": 108,
   "metadata": {},
   "outputs": [
    {
     "name": "stdout",
     "output_type": "stream",
     "text": [
      "Request Successfully\n",
      "['\\n为什么扁桃体发炎会引起耳鸣和鼻炎？\\n', '\\n对女性来说，健身有可能是把毁容刀么？是否有哪些不适合女性健身的动作？\\n', '\\n有哪些有分量的动画奖项？\\n', '\\n如何看待美团开源的 mpvue ?\\n', '\\n有哪些作文素材或名言是你百试不爽的？\\n', '\\n有哪些名字配不上本尊的植物/动物吗？\\n', '\\n自然吸气发动机的线性是指什么和什么呈线性？\\n', '\\n有哪些眼前一亮的暗中称妙的成语？\\n', '\\n为了高考你有多拼命？\\n', '\\n中国有哪些值得拍成影视剧的历史或人物？\\n', '\\n乌克兰是不是真的很穷？\\n', '\\n在p社游戏过程中，有哪些让你对现实产生思考的时候？\\n', '\\n有哪些相见恨晚的TensorFlow小技巧？\\n']\n",
      "['Lyole']\n"
     ]
    }
   ],
   "source": [
    "import re\n",
    " \n",
    "headers = {\n",
    "    'Cookie': '_zap=400b2450-a8d3-4e2c-9157-3961f50262c3; d_c0=\"AFACfRAuQgyPTsGYfK3nqLA1fGlZo6FhSDA=|1503379690\"; q_c1=3b17d61410ee44acaf64653951a689c5|1508817203000|1503407076000; __utma=51854390.305172480.1512467100.1512467100.1512467100.1; __utmz=51854390.1512467100.1.1.utmcsr=baidu|utmccn=(organic)|utmcmd=organic; __utmv=51854390.100--|2=registration_date=20170420=1^3=entry_date=20170420=1; z_c0=\"2|1:0|10:1516533477|4:z_c0|92:Mi4xOVNXX0JBQUFBQUFBVUFKOUVDNUNEQ1lBQUFCZ0FsVk41Y1JSV3dCVTMtVEVTdXRzNVNqeXBTM1F2T3BTeXJWYl9R|5bb9207c1f2f31b36435d16cdd9ed3d98a085ffe20ce1cdae142bc2f576e0317\"; q_c1=3b17d61410ee44acaf64653951a689c5|1520309043000|1503407076000; aliyungf_tc=AQAAAAa7ynFbXAUAcJzEcwalmjCy9Dhx; _xsrf=d4b95018-fa55-4f74-9f04-da741c27e36b',\n",
    "    'Host': 'www.zhihu.com',\n",
    "    'User-Agent': 'User-Agent:Mozilla/5.0 (Windows NT 6.1; WOW64) AppleWebKit/537.36 (KHTML, like Gecko) Chrome/63.0.3239.132 YaBrowser/18.2.0.284Yowser/2.5 Safari/537.36'\n",
    "}\n",
    "req = R.get(\"https://www.zhihu.com/explore\", headers=headers)\n",
    "exit() if not req.status_code == R.codes.ok else print('Request Successfully')\n",
    "pattern = re.compile('<a.*?question_link.*?>(.*?)</a>', re.S)\n",
    "titles = re.findall(pattern, req.text)\n",
    "print(titles)\n",
    "pattern2 = re.compile('<a.*?zu-top-nav-userinfo.*?<span.*?>(.*?)</span>.*?Avatar', re.S)\n",
    "username = re.findall(pattern2, req.text)\n",
    "print(username)"
   ]
  },
  {
   "cell_type": "code",
   "execution_count": 110,
   "metadata": {},
   "outputs": [
    {
     "name": "stdout",
     "output_type": "stream",
     "text": [
      "['Lyole']\n"
     ]
    }
   ],
   "source": [
    "cookies = headers['Cookie']\n",
    "jar = R.cookies.RequestsCookieJar()\n",
    "headers2 = {\n",
    "    'Host': 'www.zhihu.com',\n",
    "    'User-Agent': headers[\"User-Agent\"]\n",
    "}  \n",
    "for cookie in cookies.split(';'):\n",
    "    key, value = cookie.split('=', 1)\n",
    "    jar.set(key, value)\n",
    "req = R.get(\"https://www.zhihu.com/explore\", cookies=jar, headers=headers2)\n",
    "username = re.findall(pattern2, req.text)\n",
    "print(username)"
   ]
  },
  {
   "cell_type": "markdown",
   "metadata": {},
   "source": [
    "### Keep-Alive"
   ]
  },
  {
   "cell_type": "code",
   "execution_count": null,
   "metadata": {
    "collapsed": true
   },
   "outputs": [],
   "source": [
    "from requests import Request, Session\n",
    "R.get('http://httpbin.org/cookies/set/number/1995')\n",
    "req = R.get('http://httpbin.org/cookies')\n",
    "print(req.text)\n",
    "# {\n",
    "#   \"cookies\": {}\n",
    "# }\n",
    "s = Session()\n",
    "s.get('http://httpbin.org/cookies/set/number/1995')\n",
    "req= s.get('http://httpbin.org/cookies')\n",
    "print(req.text)\n",
    "# {\n",
    "#   \"cookies\": {\n",
    "#     \"number\": \"1995\"\n",
    "#   }\n",
    "# }"
   ]
  },
  {
   "cell_type": "code",
   "execution_count": null,
   "metadata": {
    "collapsed": true
   },
   "outputs": [],
   "source": [
    "url = 'http://httpbin.org/post'\n",
    "data = {\n",
    "    'Saycet': '15'\n",
    "} \n",
    "headers3 = {\n",
    "    'User-Agent': headers[\"User-Agent\"]\n",
    "}  \n",
    "s = Session()\n",
    "req = Request('POST', url, data=data, headers=headers3)\n",
    "prepped = s.prepare_request(req)\n",
    "req = s.send(prepped)\n",
    "print(req.text)\n",
    "# {\n",
    "#   \"args\": {}, \n",
    "#   \"data\": \"\", \n",
    "#   \"files\": {}, \n",
    "#   \"form\": {\n",
    "#     \"Saycet\": \"15\"\n",
    "#   }, \n",
    "#   \"headers\": {\n",
    "#     \"Accept\": \"*/*\", \n",
    "#     \"Accept-Encoding\": \"gzip, deflate\", \n",
    "#     \"Connection\": \"close\", \n",
    "#     \"Content-Length\": \"9\", \n",
    "#     \"Content-Type\": \"application/x-www-form-urlencoded\", \n",
    "#     \"Host\": \"httpbin.org\", \n",
    "#     \"User-Agent\": \"User-Agent:Mozilla/5.0 (Windows NT 6.1; WOW64) AppleWebKit/537.36 (KHTML, like Gecko) Chrome/63.0.3239.132 YaBrowser/18.2.0.284Yowser/2.5 Safari/537.36\"\n",
    "#   }, \n",
    "#   \"json\": null, \n",
    "#   \"origin\": \"183.246.20.118\", \n",
    "#   \"url\": \"http://httpbin.org/post\"\n",
    "# }"
   ]
  },
  {
   "cell_type": "markdown",
   "metadata": {},
   "source": [
    "### SSL"
   ]
  },
  {
   "cell_type": "code",
   "execution_count": null,
   "metadata": {
    "collapsed": true
   },
   "outputs": [],
   "source": [
    "response = R.get('https://www.12306.cn')\n",
    "print(response.status_code)\n",
    "# SSLError: HTTPSConnectionPool\n",
    "response = R.get('https://www.12306.cn', verify=False)\n",
    "print(response.status_code)\n",
    "# 200\n",
    "# Warning:  Adding certificate verification is strongly advised."
   ]
  },
  {
   "cell_type": "code",
   "execution_count": null,
   "metadata": {
    "collapsed": true
   },
   "outputs": [],
   "source": [
    "import logging\n",
    "logging.captureWarnings(True)\n",
    "response = R.get('https://www.12306.cn', verify=False)\n",
    "# response = requests.get('https://www.12306.cn', cert=('/path/server.crt', '/path/key'))\n",
    "print(response.status_code)\n",
    "# 200"
   ]
  },
  {
   "cell_type": "markdown",
   "metadata": {},
   "source": [
    "### Files"
   ]
  },
  {
   "cell_type": "code",
   "execution_count": null,
   "metadata": {
    "collapsed": true
   },
   "outputs": [],
   "source": [
    "req= R.get(\"http://httpbin.org/image/png\")\n",
    "# print(req.text)\n",
    "# print(req.content)\n",
    "with open('pig.png', 'wb') as f:\n",
    "    f.write(req.content)\n",
    " \n",
    "# upload data\n",
    "files = {'file': open('pig.png', 'rb')}\n",
    "req= R.post(\"http://httpbin.org/post\", files=files)\n",
    "# print(req.text)"
   ]
  },
  {
   "cell_type": "markdown",
   "metadata": {},
   "source": [
    "### Auth"
   ]
  },
  {
   "cell_type": "code",
   "execution_count": null,
   "metadata": {
    "collapsed": true
   },
   "outputs": [],
   "source": [
    "from requests_oauthlib import OAuth1\n",
    "\n",
    "req = R.get('url', auth=('username', 'password'))\n",
    "print(r.status_code)\n",
    "\n",
    "url = 'https://api.twitter.com/1.1/account/verify_credentials.json'\n",
    "auth = OAuth1('YOUR_APP_KEY', 'YOUR_APP_SECRET',\n",
    "              'USER_OAUTH_TOKEN', 'USER_OAUTH_TOKEN_SECRET')\n",
    "requests.get(url, auth=auth)"
   ]
  },
  {
   "cell_type": "markdown",
   "metadata": {},
   "source": [
    "## Status Code"
   ]
  },
  {
   "cell_type": "code",
   "execution_count": null,
   "metadata": {
    "collapsed": true
   },
   "outputs": [],
   "source": [
    "_codes = {\n",
    "\n",
    "    # Informational.\n",
    "    100: ('continue',),\n",
    "    101: ('switching_protocols',),\n",
    "    102: ('processing',),\n",
    "    103: ('checkpoint',),\n",
    "    122: ('uri_too_long', 'request_uri_too_long'),\n",
    "    200: ('ok', 'okay', 'all_ok', 'all_okay', 'all_good', '\\\\o/', '✓'),\n",
    "    201: ('created',),\n",
    "    202: ('accepted',),\n",
    "    203: ('non_authoritative_info', 'non_authoritative_information'),\n",
    "    204: ('no_content',),\n",
    "    205: ('reset_content', 'reset'),\n",
    "    206: ('partial_content', 'partial'),\n",
    "    207: ('multi_status', 'multiple_status', 'multi_stati', 'multiple_stati'),\n",
    "    208: ('already_reported',),\n",
    "    226: ('im_used',),\n",
    "\n",
    "    # Redirection.\n",
    "    300: ('multiple_choices',),\n",
    "    301: ('moved_permanently', 'moved', '\\\\o-'),\n",
    "    302: ('found',),\n",
    "    303: ('see_other', 'other'),\n",
    "    304: ('not_modified',),\n",
    "    305: ('use_proxy',),\n",
    "    306: ('switch_proxy',),\n",
    "    307: ('temporary_redirect', 'temporary_moved', 'temporary'),\n",
    "    308: ('permanent_redirect',\n",
    "          'resume_incomplete', 'resume',),  # These 2 to be removed in 3.0\n",
    "\n",
    "    # Client Error.\n",
    "    400: ('bad_request', 'bad'),\n",
    "    401: ('unauthorized',),\n",
    "    402: ('payment_required', 'payment'),\n",
    "    403: ('forbidden',),\n",
    "    404: ('not_found', '-o-'),\n",
    "    405: ('method_not_allowed', 'not_allowed'),\n",
    "    406: ('not_acceptable',),\n",
    "    407: ('proxy_authentication_required', 'proxy_auth', 'proxy_authentication'),\n",
    "    408: ('request_timeout', 'timeout'),\n",
    "    409: ('conflict',),\n",
    "    410: ('gone',),\n",
    "    411: ('length_required',),\n",
    "    412: ('precondition_failed', 'precondition'),\n",
    "    413: ('request_entity_too_large',),\n",
    "    414: ('request_uri_too_large',),\n",
    "    415: ('unsupported_media_type', 'unsupported_media', 'media_type'),\n",
    "    416: ('requested_range_not_satisfiable', 'requested_range', 'range_not_satisfiable'),\n",
    "    417: ('expectation_failed',),\n",
    "    418: ('im_a_teapot', 'teapot', 'i_am_a_teapot'),\n",
    "    421: ('misdirected_request',),\n",
    "    422: ('unprocessable_entity', 'unprocessable'),\n",
    "    423: ('locked',),\n",
    "    424: ('failed_dependency', 'dependency'),\n",
    "    425: ('unordered_collection', 'unordered'),\n",
    "    426: ('upgrade_required', 'upgrade'),\n",
    "    428: ('precondition_required', 'precondition'),\n",
    "    429: ('too_many_requests', 'too_many'),\n",
    "    431: ('header_fields_too_large', 'fields_too_large'),\n",
    "    444: ('no_response', 'none'),\n",
    "    449: ('retry_with', 'retry'),\n",
    "    450: ('blocked_by_windows_parental_controls', 'parental_controls'),\n",
    "    451: ('unavailable_for_legal_reasons', 'legal_reasons'),\n",
    "    499: ('client_closed_request',),\n",
    "\n",
    "    # Server Error.\n",
    "    500: ('internal_server_error', 'server_error', '/o\\\\', '✗'),\n",
    "    501: ('not_implemented',),\n",
    "    502: ('bad_gateway',),\n",
    "    503: ('service_unavailable', 'unavailable'),\n",
    "    504: ('gateway_timeout',),\n",
    "    505: ('http_version_not_supported', 'http_version'),\n",
    "    506: ('variant_also_negotiates',),\n",
    "    507: ('insufficient_storage',),\n",
    "    509: ('bandwidth_limit_exceeded', 'bandwidth'),\n",
    "    510: ('not_extended',),\n",
    "    511: ('network_authentication_required', 'network_auth', 'network_authentication'),\n",
    "}\n"
   ]
  },
  {
   "cell_type": "markdown",
   "metadata": {},
   "source": [
    "## REFERENCES\n",
    "- http://www.python-requests.org/en/master/\n",
    "- http://docs.python-requests.org/zh_CN/latest\n",
    "- https://github.com/requests/requests/blob/master/requests/status_codes.py"
   ]
  }
 ],
 "metadata": {
  "kernelspec": {
   "display_name": "Python 3",
   "language": "python",
   "name": "python3"
  },
  "language_info": {
   "codemirror_mode": {
    "name": "ipython",
    "version": 3
   },
   "file_extension": ".py",
   "mimetype": "text/x-python",
   "name": "python",
   "nbconvert_exporter": "python",
   "pygments_lexer": "ipython3",
   "version": "3.6.2"
  }
 },
 "nbformat": 4,
 "nbformat_minor": 2
}
